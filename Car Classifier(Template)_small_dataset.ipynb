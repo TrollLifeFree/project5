{
 "cells": [
  {
   "cell_type": "markdown",
   "metadata": {},
   "source": [
    "## Imports"
   ]
  },
  {
   "cell_type": "code",
   "execution_count": 1,
   "metadata": {},
   "outputs": [],
   "source": [
    "import cv2\n",
    "import numpy as np\n",
    "import matplotlib.pyplot as plt\n",
    "from skimage.feature import hog\n",
    "import matplotlib.pyplot as plt\n",
    "import matplotlib.image as mping\n",
    "import os\n",
    "from sklearn.model_selection import train_test_split\n",
    "from sklearn.svm import LinearSVC\n",
    "from sklearn.metrics import accuracy_score\n",
    "from sklearn.model_selection import GridSearchCV"
   ]
  },
  {
   "cell_type": "markdown",
   "metadata": {},
   "source": [
    "## Load Dataset"
   ]
  },
  {
   "cell_type": "code",
   "execution_count": 2,
   "metadata": {},
   "outputs": [],
   "source": [
    "vehicles_smallset_name = []\n",
    "non_vehicles_smallset_name = []\n",
    "\n",
    "for i in range(1, 4):\n",
    "    file_list = os.listdir('./vehicles_smallset/cars{}'.format(i))\n",
    "\n",
    "    for file in file_list:\n",
    "        name = file.split('.')[0]\n",
    "        vehicles_smallset_name.append(name)\n",
    "    \n",
    "for i in range(1, 4):\n",
    "    file_list = os.listdir('./non-vehicles_smallset/notcars{}'.format(i))\n",
    "    \n",
    "    for file in file_list:\n",
    "        name = file.split('.')[0]\n",
    "        non_vehicles_smallset_name.append(name)\n",
    "    \n",
    "smallset_name = vehicles_smallset_name + non_vehicles_smallset_name    \n",
    "smallset_num = []\n",
    "\n",
    "for num in range(1196):\n",
    "    smallset_num.append(1)\n",
    "\n",
    "for num in range(1125):\n",
    "    smallset_num.append(0)"
   ]
  },
  {
   "cell_type": "markdown",
   "metadata": {},
   "source": [
    "## Basic Summary of Dataset"
   ]
  },
  {
   "cell_type": "code",
   "execution_count": null,
   "metadata": {},
   "outputs": [],
   "source": []
  },
  {
   "cell_type": "markdown",
   "metadata": {},
   "source": [
    "## Visualize Some of the Data"
   ]
  },
  {
   "cell_type": "code",
   "execution_count": null,
   "metadata": {},
   "outputs": [],
   "source": []
  },
  {
   "cell_type": "markdown",
   "metadata": {},
   "source": [
    "## Feature Extraction Method"
   ]
  },
  {
   "cell_type": "code",
   "execution_count": 3,
   "metadata": {},
   "outputs": [],
   "source": [
    "# Raw pixel intensity : (Color and Shape)\n",
    "# Histogram of pixel intensity : (Color only)\n",
    "# Gradients of pixel intensity : (Shape only)"
   ]
  },
  {
   "cell_type": "code",
   "execution_count": 4,
   "metadata": {},
   "outputs": [],
   "source": [
    "# Raw pixel intensity : (Color and Shape)"
   ]
  },
  {
   "cell_type": "code",
   "execution_count": 5,
   "metadata": {},
   "outputs": [],
   "source": [
    "src = cv2.imread(\"./vehicles_smallset/cars1/1.jpeg\")\n",
    "\n",
    "src_r = cv2.resize(src, (32,32))"
   ]
  },
  {
   "cell_type": "code",
   "execution_count": 6,
   "metadata": {},
   "outputs": [],
   "source": [
    "# Histogram of pixel intensity : (Color only)"
   ]
  },
  {
   "cell_type": "code",
   "execution_count": 7,
   "metadata": {},
   "outputs": [],
   "source": [
    "src = cv2.imread(\"./vehicles_smallset/cars1/1.jpeg\")\n",
    "\n",
    "hist1 = cv2.calcHist(images=[src], channels=[0], mask=None, histSize=[16], ranges=[0, 256])\n",
    "hist2 = cv2.calcHist(images=[src], channels=[1], mask=None, histSize=[16], ranges=[0, 256])\n",
    "hist3 = cv2.calcHist(images=[src], channels=[2], mask=None, histSize=[16], ranges=[0, 256])\n",
    "\n",
    "hist1 = hist1.flatten()\n",
    "hist2 = hist2.flatten()\n",
    "hist3 = hist3.flatten()\n",
    "\n",
    "hist = np.concatenate((hist1,hist2,hist3))"
   ]
  },
  {
   "cell_type": "code",
   "execution_count": null,
   "metadata": {},
   "outputs": [],
   "source": [
    "# Gradients of pixel intensity : (Shape only)"
   ]
  },
  {
   "cell_type": "code",
   "execution_count": 9,
   "metadata": {},
   "outputs": [],
   "source": [
    "src = cv2.imread(\"./vehicles_smallset/cars1/{}.jpeg\".format(i))\n",
    "\n",
    "gray = cv2.cvtColor(src, cv2.COLOR_BGR2GRAY)\n",
    "\n",
    "hog_feature, hog_image = hog(gray, orientations=9, pixels_per_cell= (8,8),\n",
    "    cells_per_block = (2,2),\n",
    "    block_norm = 'L2-Hys', \n",
    "    transform_sqrt=False,\n",
    "    visualize=True,\n",
    "    feature_vector=True)\n",
    "\n",
    "\n",
    "# src = cv2.imread(\"./vehicles_smallset/cars1/1.jpeg\")\n",
    "\n",
    "# hog_feature1, hog_image1 = hog(src[:, :, 0], orientations=9, pixels_per_cell= (8,8),\n",
    "#     cells_per_block = (2,2),\n",
    "#     block_norm = 'L2-Hys', \n",
    "#     transform_sqrt=False,\n",
    "#     visualize=True,\n",
    "#     feature_vector=True)\n",
    "\n",
    "# hog_feature2, hog_image2 = hog(src[:, :, 1], orientations=9, pixels_per_cell= (8,8),\n",
    "#     cells_per_block = (2,2),\n",
    "#     block_norm = 'L2-Hys', \n",
    "#     transform_sqrt=False,\n",
    "#     visualize=True,\n",
    "#     feature_vector=True)\n",
    "\n",
    "# hog_feature3, hog_image3 = hog(src[:, :, 2], orientations=9, pixels_per_cell= (8,8),\n",
    "#     cells_per_block = (2,2),\n",
    "#     block_norm = 'L2-Hys', \n",
    "#     transform_sqrt=False,\n",
    "#     visualize=True,\n",
    "#     feature_vector=True)\n",
    "\n",
    "# hog_feature = np.concatenate((hog_feature1, hog_feature2, hog_feature3)) "
   ]
  },
  {
   "cell_type": "markdown",
   "metadata": {},
   "source": [
    "## Feature Extraction"
   ]
  },
  {
   "cell_type": "code",
   "execution_count": 11,
   "metadata": {},
   "outputs": [],
   "source": [
    "features = []\n",
    "for i in range(1, 4):\n",
    "    file_list = os.listdir('./vehicles_smallset/cars{}'.format(i))\n",
    "    \n",
    "    for j in file_list:\n",
    "        src = cv2.imread(\"./vehicles_smallset/cars{}/{}\".format(i, j))\n",
    "        src_raw = cv2.resize(src, (32,32))\n",
    "        src_raw = src_raw.flatten()\n",
    "\n",
    "        hist1 = cv2.calcHist(images=[src], channels=[0], mask=None, histSize=[16], ranges=[0, 256])\n",
    "        hist2 = cv2.calcHist(images=[src], channels=[1], mask=None, histSize=[16], ranges=[0, 256])\n",
    "        hist3 = cv2.calcHist(images=[src], channels=[2], mask=None, histSize=[16], ranges=[0, 256])\n",
    "\n",
    "        hist1 = hist1.flatten()\n",
    "        hist2 = hist2.flatten()\n",
    "        hist3 = hist3.flatten()\n",
    "\n",
    "        hist = np.concatenate((hist1,hist2,hist3))\n",
    "\n",
    "        gray = cv2.cvtColor(src, cv2.COLOR_BGR2GRAY)\n",
    "\n",
    "        hog_feature, hog_image = hog(gray, orientations=9, pixels_per_cell= (8,8),\n",
    "            cells_per_block = (2,2),\n",
    "            block_norm = 'L2-Hys', \n",
    "            transform_sqrt=False,\n",
    "            visualize=True,\n",
    "            feature_vector=True)\n",
    "\n",
    "        features.append(np.concatenate((src_raw, hist, hog_feature))) \n",
    "       \n",
    "for i in range(1, 4):\n",
    "    file_list = os.listdir('./non-vehicles_smallset/notcars{}'.format(i))\n",
    "    \n",
    "    for j in file_list:\n",
    "        src = cv2.imread(\"./non-vehicles_smallset/notcars{}/{}\".format(i, j))\n",
    "        src_raw = cv2.resize(src, (32,32))\n",
    "        src_raw = src_raw.flatten()\n",
    "\n",
    "        hist1 = cv2.calcHist(images=[src], channels=[0], mask=None, histSize=[16], ranges=[0, 256])\n",
    "        hist2 = cv2.calcHist(images=[src], channels=[1], mask=None, histSize=[16], ranges=[0, 256])\n",
    "        hist3 = cv2.calcHist(images=[src], channels=[2], mask=None, histSize=[16], ranges=[0, 256])\n",
    "\n",
    "        hist1 = hist1.flatten()\n",
    "        hist2 = hist2.flatten()\n",
    "        hist3 = hist3.flatten()\n",
    "\n",
    "        hist = np.concatenate((hist1,hist2,hist3))\n",
    "\n",
    "        gray = cv2.cvtColor(src, cv2.COLOR_BGR2GRAY)\n",
    "\n",
    "        hog_feature, hog_image = hog(gray, orientations=9, pixels_per_cell= (8,8),\n",
    "            cells_per_block = (2,2),\n",
    "            block_norm = 'L2-Hys', \n",
    "            transform_sqrt=False,\n",
    "            visualize=True,\n",
    "            feature_vector=True)\n",
    "\n",
    "        features.append(np.concatenate((src_raw, hist, hog_feature)))\n",
    "    \n",
    "    \n",
    "#     hog_feature1, hog_image1 = hog(src[:, :, 0], orientations=9, pixels_per_cell= (8,8),\n",
    "#         cells_per_block = (2,2),\n",
    "#         block_norm = 'L2-Hys', \n",
    "#         transform_sqrt=False,\n",
    "#         visualize=True,\n",
    "#         feature_vector=True)\n",
    "\n",
    "#     hog_feature2, hog_image2 = hog(src[:, :, 1], orientations=9, pixels_per_cell= (8,8),\n",
    "#         cells_per_block = (2,2),\n",
    "#         block_norm = 'L2-Hys', \n",
    "#         transform_sqrt=False,\n",
    "#         visualize=True,\n",
    "#         feature_vector=True)\n",
    "\n",
    "#     hog_feature3, hog_image3 = hog(src[:, :, 2], orientations=9, pixels_per_cell= (8,8),\n",
    "#         cells_per_block = (2,2),\n",
    "#         block_norm = 'L2-Hys', \n",
    "#         transform_sqrt=False,\n",
    "#         visualize=True,\n",
    "#         feature_vector=True)\n",
    "\n",
    "\n",
    "#     hog_feature = np.concatenate((hog_feature1, hog_feature2, hog_feature3))"
   ]
  },
  {
   "cell_type": "code",
   "execution_count": 12,
   "metadata": {},
   "outputs": [],
   "source": [
    "features = np.array(features)"
   ]
  },
  {
   "cell_type": "markdown",
   "metadata": {},
   "source": [
    "## Data Preparation"
   ]
  },
  {
   "cell_type": "code",
   "execution_count": 13,
   "metadata": {},
   "outputs": [],
   "source": [
    "X_train, X_test, y_train, y_test = train_test_split(features, smallset_num)"
   ]
  },
  {
   "cell_type": "markdown",
   "metadata": {},
   "source": [
    "## Classifier"
   ]
  },
  {
   "cell_type": "code",
   "execution_count": 16,
   "metadata": {},
   "outputs": [
    {
     "name": "stderr",
     "output_type": "stream",
     "text": [
      "C:\\python\\lib\\site-packages\\sklearn\\svm\\_base.py:985: ConvergenceWarning: Liblinear failed to converge, increase the number of iterations.\n",
      "  warnings.warn(\"Liblinear failed to converge, increase \"\n"
     ]
    },
    {
     "data": {
      "text/plain": [
       "0.9759036144578314"
      ]
     },
     "execution_count": 16,
     "metadata": {},
     "output_type": "execute_result"
    }
   ],
   "source": [
    "clf = LinearSVC()\n",
    "clf.fit(X_train, y_train)\n",
    "y_pred = clf.predict(X_test)\n",
    "accuracy_score(y_test, y_pred)"
   ]
  },
  {
   "cell_type": "code",
   "execution_count": null,
   "metadata": {},
   "outputs": [],
   "source": [
    "pamran_grid = [\n",
    "    {'C': [0.8, 1.0, 1.2], 'max_iter':[10000]}\n",
    "]\n",
    "\n",
    "grid_search = GridSearchCV(clf, pamran_grid, cv=5, scoring = \"accuracy\", n_jobs=1)\n",
    "grid_search.fit(X_train, y_train)"
   ]
  },
  {
   "cell_type": "code",
   "execution_count": null,
   "metadata": {},
   "outputs": [],
   "source": [
    "grid_search.best_params_"
   ]
  },
  {
   "cell_type": "code",
   "execution_count": null,
   "metadata": {},
   "outputs": [],
   "source": [
    "grid_search.best_score_"
   ]
  },
  {
   "cell_type": "markdown",
   "metadata": {},
   "source": [
    "## Data Saving to Pickle"
   ]
  },
  {
   "cell_type": "code",
   "execution_count": null,
   "metadata": {},
   "outputs": [],
   "source": []
  },
  {
   "cell_type": "code",
   "execution_count": null,
   "metadata": {},
   "outputs": [],
   "source": []
  }
 ],
 "metadata": {
  "kernelspec": {
   "display_name": "Python 3",
   "language": "python",
   "name": "python3"
  },
  "language_info": {
   "codemirror_mode": {
    "name": "ipython",
    "version": 3
   },
   "file_extension": ".py",
   "mimetype": "text/x-python",
   "name": "python",
   "nbconvert_exporter": "python",
   "pygments_lexer": "ipython3",
   "version": "3.8.8"
  },
  "varInspector": {
   "cols": {
    "lenName": 16,
    "lenType": 16,
    "lenVar": 40
   },
   "kernels_config": {
    "python": {
     "delete_cmd_postfix": "",
     "delete_cmd_prefix": "del ",
     "library": "var_list.py",
     "varRefreshCmd": "print(var_dic_list())"
    },
    "r": {
     "delete_cmd_postfix": ") ",
     "delete_cmd_prefix": "rm(",
     "library": "var_list.r",
     "varRefreshCmd": "cat(var_dic_list()) "
    }
   },
   "types_to_exclude": [
    "module",
    "function",
    "builtin_function_or_method",
    "instance",
    "_Feature"
   ],
   "window_display": false
  }
 },
 "nbformat": 4,
 "nbformat_minor": 4
}
